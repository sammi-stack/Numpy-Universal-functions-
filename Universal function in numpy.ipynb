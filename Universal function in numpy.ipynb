{
 "cells": [
  {
   "cell_type": "markdown",
   "id": "b8f17308",
   "metadata": {},
   "source": [
    "## Sami Ahmed (PIAIC179613)"
   ]
  },
  {
   "cell_type": "code",
   "execution_count": 3,
   "id": "7761bb4f",
   "metadata": {},
   "outputs": [],
   "source": [
    "import numpy as np"
   ]
  },
  {
   "cell_type": "markdown",
   "id": "c99e76d1",
   "metadata": {},
   "source": [
    "# Additon"
   ]
  },
  {
   "cell_type": "code",
   "execution_count": 4,
   "id": "be9cfc8e",
   "metadata": {},
   "outputs": [
    {
     "data": {
      "text/plain": [
       "array([ 13,  24, 105, 206, 507])"
      ]
     },
     "execution_count": 4,
     "metadata": {},
     "output_type": "execute_result"
    }
   ],
   "source": [
    "a = np.array([10,20,100,200,500])\n",
    "b = np.array([3,4,5,6,7])\n",
    "np.add(a, b)"
   ]
  },
  {
   "cell_type": "markdown",
   "id": "c0721160",
   "metadata": {},
   "source": [
    "# Subtraction"
   ]
  },
  {
   "cell_type": "code",
   "execution_count": 5,
   "id": "b3612813",
   "metadata": {},
   "outputs": [
    {
     "data": {
      "text/plain": [
       "array([  7,  16,  95, 194, 493])"
      ]
     },
     "execution_count": 5,
     "metadata": {},
     "output_type": "execute_result"
    }
   ],
   "source": [
    "a = np.array([10,20,100,200,500])\n",
    "b = np.array([3,4,5,6,7])\n",
    "np.subtract(a, b)"
   ]
  },
  {
   "cell_type": "markdown",
   "id": "3f2f5ca4",
   "metadata": {},
   "source": [
    "# Multiply"
   ]
  },
  {
   "cell_type": "code",
   "execution_count": 6,
   "id": "3523f90d",
   "metadata": {},
   "outputs": [
    {
     "data": {
      "text/plain": [
       "array([21, 12, 20, 30,  7])"
      ]
     },
     "execution_count": 6,
     "metadata": {},
     "output_type": "execute_result"
    }
   ],
   "source": [
    "a = np.array([7,3,4,5,1])\n",
    "b = np.array([3,4,5,6,7])\n",
    "np.multiply(a, b)"
   ]
  },
  {
   "cell_type": "markdown",
   "id": "2050cff1",
   "metadata": {},
   "source": [
    "# Divide"
   ]
  },
  {
   "cell_type": "code",
   "execution_count": 7,
   "id": "f5351465",
   "metadata": {},
   "outputs": [
    {
     "data": {
      "text/plain": [
       "array([2.33333333, 0.75      , 0.8       , 0.83333333, 0.14285714])"
      ]
     },
     "execution_count": 7,
     "metadata": {},
     "output_type": "execute_result"
    }
   ],
   "source": [
    "a = np.array([7,3,4,5,1])\n",
    "b = np.array([3,4,5,6,7])\n",
    "np.divide(a,b)"
   ]
  },
  {
   "cell_type": "markdown",
   "id": "e3019d29",
   "metadata": {},
   "source": [
    "# Remainder"
   ]
  },
  {
   "cell_type": "code",
   "execution_count": 8,
   "id": "6b75bfe1",
   "metadata": {},
   "outputs": [
    {
     "data": {
      "text/plain": [
       "array([1, 3, 4, 5, 1], dtype=int32)"
      ]
     },
     "execution_count": 8,
     "metadata": {},
     "output_type": "execute_result"
    }
   ],
   "source": [
    "a = np.array([7,3,4,5,1])\n",
    "b = np.array([3,4,5,6,7])\n",
    "np.remainder(a,b)"
   ]
  },
  {
   "cell_type": "markdown",
   "id": "8661141d",
   "metadata": {},
   "source": [
    "# Power"
   ]
  },
  {
   "cell_type": "code",
   "execution_count": 10,
   "id": "3e1f3f51",
   "metadata": {},
   "outputs": [
    {
     "data": {
      "text/plain": [
       "array([  343,    81,  1024, 15625,     1], dtype=int32)"
      ]
     },
     "execution_count": 10,
     "metadata": {},
     "output_type": "execute_result"
    }
   ],
   "source": [
    "a = np.array([7,3,4,5,1])\n",
    "b = np.array([3,4,5,6,7])\n",
    "np.power(a,b)"
   ]
  },
  {
   "cell_type": "markdown",
   "id": "74ba7f5c",
   "metadata": {},
   "source": [
    "# Reciprocal"
   ]
  },
  {
   "cell_type": "code",
   "execution_count": 11,
   "id": "a7ea11b5",
   "metadata": {},
   "outputs": [
    {
     "data": {
      "text/plain": [
       "array([0, 0, 0, 0, 1], dtype=int32)"
      ]
     },
     "execution_count": 11,
     "metadata": {},
     "output_type": "execute_result"
    }
   ],
   "source": [
    "a = np.array([7,3,4,5,1])\n",
    "np.reciprocal(a)"
   ]
  },
  {
   "cell_type": "markdown",
   "id": "98768bbd",
   "metadata": {},
   "source": [
    "# Absolute Values"
   ]
  },
  {
   "cell_type": "code",
   "execution_count": 12,
   "id": "b9e2fc8f",
   "metadata": {},
   "outputs": [
    {
     "data": {
      "text/plain": [
       "array([1, 2, 1, 2, 3, 4])"
      ]
     },
     "execution_count": 12,
     "metadata": {},
     "output_type": "execute_result"
    }
   ],
   "source": [
    "a = np.array([-1, -2, 1, 2, 3, -4])\n",
    "np.absolute(a)"
   ]
  },
  {
   "cell_type": "markdown",
   "id": "b722b1f2",
   "metadata": {},
   "source": [
    "# Median"
   ]
  },
  {
   "cell_type": "code",
   "execution_count": 14,
   "id": "3dde0f38",
   "metadata": {},
   "outputs": [
    {
     "data": {
      "text/plain": [
       "4.0"
      ]
     },
     "execution_count": 14,
     "metadata": {},
     "output_type": "execute_result"
    }
   ],
   "source": [
    "a = np.array([7,3,4,5,1])\n",
    "np.median(a)"
   ]
  },
  {
   "cell_type": "markdown",
   "id": "aa8e1c97",
   "metadata": {},
   "source": [
    "# Mean"
   ]
  },
  {
   "cell_type": "code",
   "execution_count": 16,
   "id": "de9594aa",
   "metadata": {},
   "outputs": [
    {
     "data": {
      "text/plain": [
       "4.0"
      ]
     },
     "execution_count": 16,
     "metadata": {},
     "output_type": "execute_result"
    }
   ],
   "source": [
    "a = np.array([7,3,4,5,1])\n",
    "np.mean(a)"
   ]
  },
  {
   "cell_type": "markdown",
   "id": "1400e56a",
   "metadata": {},
   "source": [
    "# Variance Value"
   ]
  },
  {
   "cell_type": "code",
   "execution_count": 19,
   "id": "83e06537",
   "metadata": {},
   "outputs": [
    {
     "data": {
      "text/plain": [
       "4.0"
      ]
     },
     "execution_count": 19,
     "metadata": {},
     "output_type": "execute_result"
    }
   ],
   "source": [
    "a = np.array([7,3,4,5,1])\n",
    "np.var(a)"
   ]
  },
  {
   "cell_type": "markdown",
   "id": "f1c8821f",
   "metadata": {},
   "source": [
    "# Rounding"
   ]
  },
  {
   "cell_type": "code",
   "execution_count": 21,
   "id": "c51dc8b2",
   "metadata": {},
   "outputs": [
    {
     "data": {
      "text/plain": [
       "3.17"
      ]
     },
     "execution_count": 21,
     "metadata": {},
     "output_type": "execute_result"
    }
   ],
   "source": [
    "a = np.around(3.1666, 2)\n",
    "a"
   ]
  },
  {
   "cell_type": "markdown",
   "id": "94a4236f",
   "metadata": {},
   "source": [
    "# Square"
   ]
  },
  {
   "cell_type": "code",
   "execution_count": 24,
   "id": "7000aa27",
   "metadata": {
    "scrolled": true
   },
   "outputs": [
    {
     "data": {
      "text/plain": [
       "array([ 1,  9, 16, 25], dtype=int32)"
      ]
     },
     "execution_count": 24,
     "metadata": {},
     "output_type": "execute_result"
    }
   ],
   "source": [
    "arr1 = [1, 3, 4, 5]\n",
    "np.square(arr1)"
   ]
  },
  {
   "cell_type": "markdown",
   "id": "db99b496",
   "metadata": {},
   "source": [
    "# Square Root"
   ]
  },
  {
   "cell_type": "code",
   "execution_count": 26,
   "id": "c0c414bb",
   "metadata": {},
   "outputs": [
    {
     "data": {
      "text/plain": [
       "array([1.        , 1.73205081, 2.        , 2.23606798])"
      ]
     },
     "execution_count": 26,
     "metadata": {},
     "output_type": "execute_result"
    }
   ],
   "source": [
    "arr = [1, 3, 4, 5]\n",
    "np.sqrt(arr)"
   ]
  }
 ],
 "metadata": {
  "kernelspec": {
   "display_name": "Python 3 (ipykernel)",
   "language": "python",
   "name": "python3"
  },
  "language_info": {
   "codemirror_mode": {
    "name": "ipython",
    "version": 3
   },
   "file_extension": ".py",
   "mimetype": "text/x-python",
   "name": "python",
   "nbconvert_exporter": "python",
   "pygments_lexer": "ipython3",
   "version": "3.7.0"
  },
  "widgets": {
   "application/vnd.jupyter.widget-state+json": {
    "state": {},
    "version_major": 2,
    "version_minor": 0
   }
  }
 },
 "nbformat": 4,
 "nbformat_minor": 5
}
